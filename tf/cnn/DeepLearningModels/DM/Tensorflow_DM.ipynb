{
 "metadata": {
  "name": ""
 },
 "nbformat": 3,
 "nbformat_minor": 0,
 "worksheets": [
  {
   "cells": [
    {
     "cell_type": "code",
     "collapsed": false,
     "input": [
      "from collections import namedtuple\n",
      "import csv\n",
      "import re\n",
      "import string\n",
      "\n",
      "import collections\n",
      "import math\n",
      "import os\n",
      "import random\n",
      "import zipfile\n",
      "\n",
      "import numpy as np\n",
      "from six.moves import urllib\n",
      "from six.moves import xrange  # pylint: disable=redefined-builtin\n",
      "import tensorflow as tf\n",
      "\n",
      "reader = csv.reader(open(\"wikipedia.csv\"))\n",
      "count = 0\n",
      "data = ''\n",
      "for row in reader:\n",
      "    count = count + 1\n",
      "    if count > 301:\n",
      "       break\n",
      "    else:\n",
      "        data += row[1].lower()\n",
      "        \n",
      "sentenceEnders = re.compile('[.?!]')\n",
      "data_list = sentenceEnders.split(data)\n",
      "\n",
      "LabelDoc = namedtuple('LabelDoc', 'words tags')\n",
      "exclude = set(string.punctuation)\n",
      "all_docs = []\n",
      "count = 0\n",
      "for sen in data_list:\n",
      "    word_list = sen.split()\n",
      "    if len(word_list) < 3:\n",
      "        continue\n",
      "    tag = ['SEN_' + str(count)]\n",
      "    count += 1\n",
      "    sen = ''.join(ch for ch in sen if ch not in exclude)\n",
      "    all_docs.append(LabelDoc(sen.split(), tag))\n",
      "    \n",
      "# Step 2: Build the dictionary and replace rare words with UNK token.\n",
      "def build_dataset(input_data, min_cut_freq):\n",
      "  words = []\n",
      "  for i in input_data:\n",
      "        for j in i.words:\n",
      "            words.append(j)\n",
      "  count_org = [['UNK', -1]]\n",
      "  count_org.extend(collections.Counter(words).most_common())\n",
      "  count = [['UNK', -1]]\n",
      "  for word, c in count_org:\n",
      "    word_tuple = [word, c]\n",
      "    if word == 'UNK': \n",
      "        count[0][1] = c\n",
      "        continue\n",
      "    if c > min_cut_freq:\n",
      "        count.append(word_tuple)\n",
      "  dictionary = dict()\n",
      "  for word, _ in count:\n",
      "    dictionary[word] = len(dictionary)\n",
      "  data = []\n",
      "  unk_count = 0\n",
      "  for tup in input_data:\n",
      "    word_data = []\n",
      "    for word in tup.words:\n",
      "      if word in dictionary:\n",
      "        index = dictionary[word]\n",
      "      else:\n",
      "        index = 0\n",
      "        unk_count += 1\n",
      "      word_data.append(index)\n",
      "    data.append(LabelDoc(word_data, tup.tags))    \n",
      "  count[0][1] = unk_count\n",
      "  reverse_dictionary = dict(zip(dictionary.values(), dictionary.keys()))\n",
      "  return data, count, dictionary, reverse_dictionary\n",
      "\n",
      "min_cut_freq = 3 #cut off frequence smaller then 3 words\n",
      "data, count, dictionary, reverse_dictionary = build_dataset(all_docs, min_cut_freq)\n",
      "vocabulary_size = len(reverse_dictionary)\n",
      "paragraph_size = len(all_docs)\n",
      "print('paragraph_size: ', paragraph_size)\n",
      "\n",
      "word_index = 0\n",
      "sentence_index = 0\n",
      "\n",
      "def generate_DM_batch(batch_size, num_skips, skip_window):\n",
      "    global word_index\n",
      "    global sentence_index\n",
      "    assert batch_size % num_skips == 0\n",
      "    assert num_skips <= 2 * skip_window\n",
      "    batch = np.ndarray(shape=(batch_size, num_skips), dtype=np.int32)\n",
      "    labels = np.ndarray(shape=(batch_size, 1), dtype=np.int32)\n",
      "    para_labels = np.ndarray(shape=(batch_size, 1), dtype=np.int32) # Paragraph Labels\n",
      "    span = 2 * skip_window + 1 # [ skip_window target skip_window ]\n",
      "    buffer = collections.deque(maxlen=span)\n",
      "    for _ in range(span):\n",
      "        buffer.append(data[sentence_index].words[word_index])\n",
      "        sen_len = len(data[sentence_index].words)\n",
      "        if sen_len - 1 == word_index: # reaching the end of a sentence\n",
      "            word_index = 0\n",
      "            sentence_index = (sentence_index + 1) % len(data)\n",
      "        else: # increase the word_index by 1\n",
      "            word_index += 1 \n",
      "    for i in range(batch_size):\n",
      "        target = skip_window  # target label at the center of the buffer\n",
      "        targets_to_avoid = [ skip_window ]\n",
      "        batch_temp = np.ndarray(shape=(num_skips), dtype=np.int32)\n",
      "        for j in range(num_skips):\n",
      "            while target in targets_to_avoid:\n",
      "                target = random.randint(0, span - 1)\n",
      "            targets_to_avoid.append(target)\n",
      "            batch_temp[j] = buffer[target]\n",
      "        batch[i] = batch_temp\n",
      "        labels[i,0] = buffer[skip_window]\n",
      "        para_labels[i, 0] = sentence_index\n",
      "        buffer.append(data[sentence_index].words[word_index])\n",
      "        sen_len = len(data[sentence_index].words)\n",
      "        if sen_len - 1 == word_index: # reaching the end of a sentence\n",
      "            word_index = 0\n",
      "            sentence_index = (sentence_index + 1) % len(data)\n",
      "        else: # increase the word_index by 1\n",
      "            word_index += 1 \n",
      "    return batch, labels, para_labels\n",
      "\n",
      "# Step 4: Build and train a skip-gram model.\n",
      "\n",
      "batch_size = 128\n",
      "embedding_size = 128  # Dimension of the embedding vector.\n",
      "skip_window = 1       # How many words to consider left and right.\n",
      "num_skips = 2         # How many times to reuse an input to generate a label.\n",
      "\n",
      "# We pick a random validation set to sample nearest neighbors. Here we limit the\n",
      "# validation samples to the words that have a low numeric ID, which by\n",
      "# construction are also the most frequent.\n",
      "valid_size = 16     # Random set of words to evaluate similarity on.\n",
      "valid_window = 100  # Only pick dev samples in the head of the distribution.\n",
      "valid_examples = np.random.choice(valid_window, valid_size, replace=False)\n",
      "num_sampled = 64    # Number of negative examples to sample.\n",
      "\n",
      "print valid_examples\n",
      "\n",
      "graph = tf.Graph()\n",
      "\n",
      "with graph.as_default():\n",
      "\n",
      "  # Input data.\n",
      "  train_inputs = tf.placeholder(tf.int32,shape=[batch_size, skip_window * 2])\n",
      "  train_labels = tf.placeholder(tf.int32, shape=[batch_size, 1])\n",
      "  #paragraph vector place holder\n",
      "  train_para_labels = tf.placeholder(tf.int32,shape=[batch_size, 1])\n",
      "  valid_dataset = tf.constant(valid_examples, dtype=tf.int32)\n",
      "\n",
      "  # Ops and variables pinned to the CPU because of missing GPU implementation\n",
      "  with tf.device('/cpu:0'):\n",
      "    # Look up embeddings for inputs.\n",
      "    embeddings = tf.Variable(\n",
      "        tf.random_uniform([vocabulary_size, embedding_size], -1.0, 1.0))\n",
      "    # Embedding size is calculated as shape(train_inputs) + shape(embeddings)[1:]: [200, 4] + [vocab_size - 1, embedding_size]\n",
      "    embed_word = tf.nn.embedding_lookup(embeddings, train_inputs)\n",
      "    \n",
      "    para_embeddings = tf.Variable(\n",
      "        tf.random_uniform([paragraph_size, embedding_size], -1.0, 1.0))\n",
      "    embed_para = tf.nn.embedding_lookup(para_embeddings, train_para_labels)\n",
      "    \n",
      "    embed = tf.concat(1, [embed_word, embed_para])\n",
      "    \n",
      "    reduced_embed = tf.div(tf.reduce_sum(embed, 1), skip_window*2 + 1)\n",
      "    \n",
      "\n",
      "    # Construct the variables for the NCE loss\n",
      "    nce_weights = tf.Variable(\n",
      "        tf.truncated_normal([vocabulary_size, embedding_size],\n",
      "                            stddev=1.0 / math.sqrt(embedding_size)))\n",
      "    nce_biases = tf.Variable(tf.zeros([vocabulary_size]))\n",
      "\n",
      "  # Compute the average NCE loss for the batch.\n",
      "  # tf.nce_loss automatically draws a new sample of the negative labels each\n",
      "  # time we evaluate the loss.\n",
      "  loss = tf.reduce_mean(\n",
      "      tf.nn.nce_loss(nce_weights, nce_biases, reduced_embed, train_labels,\n",
      "                     num_sampled, vocabulary_size))\n",
      "\n",
      "  # Construct the SGD optimizer using a learning rate of 1.0.\n",
      "    \n",
      "  global_step = tf.Variable(0, trainable=False)\n",
      "  starter_learning_rate = 1.0\n",
      "  learning_rate = tf.train.exponential_decay(starter_learning_rate, global_step,\n",
      "                                           1000, 0.009, staircase=True)\n",
      "  optimizer = tf.train.GradientDescentOptimizer(learning_rate).minimize(loss)\n",
      "  #optimizer = tf.train.GradientDescentOptimizer(1.0).minimize(loss)\n",
      "\n",
      "  # Compute the cosine similarity between minibatch examples and all embeddings.\n",
      "  norm = tf.sqrt(tf.reduce_sum(tf.square(embeddings), 1, keep_dims=True))\n",
      "  normalized_embeddings = embeddings / norm\n",
      "  para_norm = tf.sqrt(tf.reduce_sum(tf.square(para_embeddings), 1, keep_dims=True))\n",
      "  normalized_para_embeddings = para_embeddings / para_norm\n",
      "  valid_embeddings = tf.nn.embedding_lookup(\n",
      "      normalized_embeddings, valid_dataset)\n",
      "  similarity = tf.matmul(\n",
      "      valid_embeddings, normalized_embeddings, transpose_b=True)\n",
      "\n",
      "  # Add variable initializer.\n",
      "  init = tf.initialize_all_variables()\n",
      "\n",
      "# Step 5: Begin training.\n",
      "num_steps = 100001\n",
      "\n",
      "with tf.Session(graph=graph) as session:\n",
      "  # We must initialize all variables before we use them.\n",
      "  init.run()\n",
      "  print(\"Initialized\")\n",
      "\n",
      "  average_loss = 0\n",
      "  for step in xrange(num_steps):\n",
      "    batch_inputs, batch_labels, batch_para_labels = generate_DM_batch(\n",
      "        batch_size, num_skips, skip_window)\n",
      "    feed_dict = {train_inputs : batch_inputs, train_labels : batch_labels, train_para_labels: batch_para_labels}\n",
      "\n",
      "    # We perform one update step by evaluating the optimizer op (including it\n",
      "    # in the list of returned values for session.run()\n",
      "    _, loss_val = session.run([optimizer, loss], feed_dict=feed_dict)\n",
      "    average_loss += loss_val\n",
      "\n",
      "    if step % 2000 == 0:\n",
      "      if step > 0:\n",
      "        average_loss /= 2000\n",
      "      # The average loss is an estimate of the loss over the last 2000 batches.\n",
      "      print(\"Average loss at step \", step, \": \", average_loss)\n",
      "      average_loss = 0\n",
      "                \n",
      "    # Note that this is expensive (~20% slowdown if computed every 500 steps)\n",
      "    if step % 100000 == 0:\n",
      "      sim = similarity.eval()\n",
      "      for i in xrange(valid_size):\n",
      "        valid_word = reverse_dictionary[valid_examples[i]]\n",
      "        top_k = 8 # number of nearest neighbors\n",
      "        nearest = (-sim[i, :]).argsort()[1:top_k+1]\n",
      "        log_str = \"Nearest to %s:\" % valid_word\n",
      "        for k in xrange(top_k):\n",
      "          close_word = reverse_dictionary[nearest[k]]\n",
      "          log_str = \"%s %s,\" % (log_str, close_word)\n",
      "        print(log_str)\n",
      "  final_embeddings = normalized_embeddings.eval()\n",
      "  final_para_embeddings = normalized_para_embeddings.eval()\n"
     ],
     "language": "python",
     "metadata": {},
     "outputs": [
      {
       "output_type": "stream",
       "stream": "stdout",
       "text": [
        "('paragraph_size: ', 18681)\n",
        "[85 88  9 23 55 77 75 22 41 45 58 27 65  7 20 95]\n",
        "Initialized"
       ]
      },
      {
       "output_type": "stream",
       "stream": "stdout",
       "text": [
        "\n",
        "('Average loss at step ', 0, ': ', 201.97166442871094)\n",
        "Nearest to under: corporations, finals, ahmad, margin, survivors, holidays, intelligentsia, ghk,\n",
        "Nearest to them: sky, grandmother, dozen, dylans, dreams, resource, generation, rafferty,\n",
        "Nearest to as: 5000, make, success, situated, latin, violating, exposures, sizes,\n",
        "Nearest to are: describing, menu, elimination, meanings, save, 7\u00a0mm, rereleased, itself,\n",
        "Nearest to music: speculated, relationship, fazal, ti, circuit, jackson, disclosure, coolies,\n",
        "Nearest to no: valid, boziz\u00e9, setting, estate, f, descriptive, airborne, franchise,\n",
        "Nearest to being: video, strategies, expeditionary, 1957, million, policyholders, hedgehog, perfect,\n",
        "Nearest to were: advanced, targeting, electric, acknowledging, editorial, hazard, found, election,\n",
        "Nearest to been: basque, finance, southwestern, soundtracks, neighbors, kiddgilchrist, lattre, audiences,\n",
        "Nearest to two: missions, 62\u00a0mm, victim, dating, republic, douglas, another, expelled,\n",
        "Nearest to into: album, tired, wind, trial, hebrew, hospital, gamesradar, el,\n",
        "Nearest to had: channel, endorsement, actual, shipments, shift, innocents, wmv, ansett,\n",
        "Nearest to over: recipient, freyja, generated, et, helm, spirit, signalled, institution,\n",
        "Nearest to was: armies, arises, gahutu, worldwide, commissioner, shopping, supposedly, hejaz,\n",
        "Nearest to an: lifestyle, magnitude, fruit, hejaz, moscow, tusk, eurasian, defensive,\n",
        "Nearest to national: abuses, scope, stiefvater, defeating, firth, switzerland, denmarknorway, owl,\n",
        "('Average loss at step ', 2000, ': ', 41.711844046592709)"
       ]
      },
      {
       "output_type": "stream",
       "stream": "stdout",
       "text": [
        "\n",
        "('Average loss at step ', 4000, ': ', 8.9432319018840793)"
       ]
      },
      {
       "output_type": "stream",
       "stream": "stdout",
       "text": [
        "\n",
        "('Average loss at step ', 6000, ': ', 6.0333830397129056)"
       ]
      },
      {
       "output_type": "stream",
       "stream": "stdout",
       "text": [
        "\n",
        "('Average loss at step ', 8000, ': ', 5.1415713019371037)"
       ]
      },
      {
       "output_type": "stream",
       "stream": "stdout",
       "text": [
        "\n",
        "('Average loss at step ', 10000, ': ', 4.9031829937696454)"
       ]
      },
      {
       "output_type": "stream",
       "stream": "stdout",
       "text": [
        "\n",
        "('Average loss at step ', 12000, ': ', 4.7128568677902223)"
       ]
      },
      {
       "output_type": "stream",
       "stream": "stdout",
       "text": [
        "\n",
        "('Average loss at step ', 14000, ': ', 4.5480673760175705)"
       ]
      },
      {
       "output_type": "stream",
       "stream": "stdout",
       "text": [
        "\n",
        "('Average loss at step ', 16000, ': ', 4.458307715535164)"
       ]
      },
      {
       "output_type": "stream",
       "stream": "stdout",
       "text": [
        "\n",
        "('Average loss at step ', 18000, ': ', 4.3834808651208874)"
       ]
      },
      {
       "output_type": "stream",
       "stream": "stdout",
       "text": [
        "\n",
        "('Average loss at step ', 20000, ': ', 4.2765810445547103)"
       ]
      },
      {
       "output_type": "stream",
       "stream": "stdout",
       "text": [
        "\n",
        "('Average loss at step ', 22000, ': ', 4.2320210508108138)"
       ]
      },
      {
       "output_type": "stream",
       "stream": "stdout",
       "text": [
        "\n",
        "('Average loss at step ', 24000, ': ', 4.1741518561840056)"
       ]
      },
      {
       "output_type": "stream",
       "stream": "stdout",
       "text": [
        "\n",
        "('Average loss at step ', 26000, ': ', 4.1001323657035824)"
       ]
      },
      {
       "output_type": "stream",
       "stream": "stdout",
       "text": [
        "\n",
        "('Average loss at step ', 28000, ': ', 4.0654780670404431)"
       ]
      },
      {
       "output_type": "stream",
       "stream": "stdout",
       "text": [
        "\n",
        "('Average loss at step ', 30000, ': ', 4.0245166748762129)"
       ]
      },
      {
       "output_type": "stream",
       "stream": "stdout",
       "text": [
        "\n",
        "('Average loss at step ', 32000, ': ', 3.9608777524232863)"
       ]
      },
      {
       "output_type": "stream",
       "stream": "stdout",
       "text": [
        "\n",
        "('Average loss at step ', 34000, ': ', 3.9320812761783599)"
       ]
      },
      {
       "output_type": "stream",
       "stream": "stdout",
       "text": [
        "\n",
        "('Average loss at step ', 36000, ': ', 3.899176519393921)"
       ]
      },
      {
       "output_type": "stream",
       "stream": "stdout",
       "text": [
        "\n",
        "('Average loss at step ', 38000, ': ', 3.8463603563308717)"
       ]
      },
      {
       "output_type": "stream",
       "stream": "stdout",
       "text": [
        "\n",
        "('Average loss at step ', 40000, ': ', 3.8174253811836243)"
       ]
      },
      {
       "output_type": "stream",
       "stream": "stdout",
       "text": [
        "\n",
        "('Average loss at step ', 42000, ': ', 3.7981517140865324)"
       ]
      },
      {
       "output_type": "stream",
       "stream": "stdout",
       "text": [
        "\n",
        "('Average loss at step ', 44000, ': ', 3.7393631111383439)"
       ]
      },
      {
       "output_type": "stream",
       "stream": "stdout",
       "text": [
        "\n",
        "('Average loss at step ', 46000, ': ', 3.7229966558814049)"
       ]
      },
      {
       "output_type": "stream",
       "stream": "stdout",
       "text": [
        "\n",
        "('Average loss at step ', 48000, ': ', 3.7046754992008211)"
       ]
      },
      {
       "output_type": "stream",
       "stream": "stdout",
       "text": [
        "\n",
        "('Average loss at step ', 50000, ': ', 3.646863640129566)"
       ]
      },
      {
       "output_type": "stream",
       "stream": "stdout",
       "text": [
        "\n",
        "('Average loss at step ', 52000, ': ', 3.6413631702065468)"
       ]
      },
      {
       "output_type": "stream",
       "stream": "stdout",
       "text": [
        "\n",
        "('Average loss at step ', 54000, ': ', 3.6209043350815775)"
       ]
      },
      {
       "output_type": "stream",
       "stream": "stdout",
       "text": [
        "\n",
        "('Average loss at step ', 56000, ': ', 3.569687003850937)"
       ]
      },
      {
       "output_type": "stream",
       "stream": "stdout",
       "text": [
        "\n",
        "('Average loss at step ', 58000, ': ', 3.553534373819828)"
       ]
      },
      {
       "output_type": "stream",
       "stream": "stdout",
       "text": [
        "\n",
        "('Average loss at step ', 60000, ': ', 3.5446372628211975)"
       ]
      },
      {
       "output_type": "stream",
       "stream": "stdout",
       "text": [
        "\n",
        "('Average loss at step ', 62000, ': ', 3.5031969383358956)"
       ]
      },
      {
       "output_type": "stream",
       "stream": "stdout",
       "text": [
        "\n",
        "('Average loss at step ', 64000, ': ', 3.4825612263083459)"
       ]
      },
      {
       "output_type": "stream",
       "stream": "stdout",
       "text": [
        "\n",
        "('Average loss at step ', 66000, ': ', 3.4744566411972047)"
       ]
      },
      {
       "output_type": "stream",
       "stream": "stdout",
       "text": [
        "\n",
        "('Average loss at step ', 68000, ': ', 3.4289468609094618)"
       ]
      },
      {
       "output_type": "stream",
       "stream": "stdout",
       "text": [
        "\n",
        "('Average loss at step ', 70000, ': ', 3.4168871909379961)"
       ]
      },
      {
       "output_type": "stream",
       "stream": "stdout",
       "text": [
        "\n",
        "('Average loss at step ', 72000, ': ', 3.401187175989151)"
       ]
      },
      {
       "output_type": "stream",
       "stream": "stdout",
       "text": [
        "\n",
        "('Average loss at step ', 74000, ': ', 3.3689084451794624)"
       ]
      },
      {
       "output_type": "stream",
       "stream": "stdout",
       "text": [
        "\n",
        "('Average loss at step ', 76000, ': ', 3.353499243438244)"
       ]
      },
      {
       "output_type": "stream",
       "stream": "stdout",
       "text": [
        "\n",
        "('Average loss at step ', 78000, ': ', 3.3294198623895643)"
       ]
      },
      {
       "output_type": "stream",
       "stream": "stdout",
       "text": [
        "\n",
        "('Average loss at step ', 80000, ': ', 3.3177369711399076)"
       ]
      },
      {
       "output_type": "stream",
       "stream": "stdout",
       "text": [
        "\n",
        "('Average loss at step ', 82000, ': ', 3.2866159972548483)"
       ]
      },
      {
       "output_type": "stream",
       "stream": "stdout",
       "text": [
        "\n",
        "('Average loss at step ', 84000, ': ', 3.2780201415419579)"
       ]
      },
      {
       "output_type": "stream",
       "stream": "stdout",
       "text": [
        "\n",
        "('Average loss at step ', 86000, ': ', 3.2592564346790316)"
       ]
      },
      {
       "output_type": "stream",
       "stream": "stdout",
       "text": [
        "\n",
        "('Average loss at step ', 88000, ': ', 3.2311905499100684)"
       ]
      },
      {
       "output_type": "stream",
       "stream": "stdout",
       "text": [
        "\n",
        "('Average loss at step ', 90000, ': ', 3.2194142993688581)"
       ]
      },
      {
       "output_type": "stream",
       "stream": "stdout",
       "text": [
        "\n",
        "('Average loss at step ', 92000, ': ', 3.2090786912441254)"
       ]
      },
      {
       "output_type": "stream",
       "stream": "stdout",
       "text": [
        "\n",
        "('Average loss at step ', 94000, ': ', 3.1804380759000779)"
       ]
      },
      {
       "output_type": "stream",
       "stream": "stdout",
       "text": [
        "\n",
        "('Average loss at step ', 96000, ': ', 3.1685028538107871)"
       ]
      },
      {
       "output_type": "stream",
       "stream": "stdout",
       "text": [
        "\n",
        "('Average loss at step ', 98000, ': ', 3.1540236313343049)"
       ]
      },
      {
       "output_type": "stream",
       "stream": "stdout",
       "text": [
        "\n",
        "('Average loss at step ', 100000, ': ', 3.123783304512501)"
       ]
      },
      {
       "output_type": "stream",
       "stream": "stdout",
       "text": [
        "\n",
        "Nearest to under: against, in, onto, transformed, rolled, recognize, ahmad, vocal,\n",
        "Nearest to them: him, facilitate, agents, bioshock, rich, fins, conservatism, things,\n",
        "Nearest to as: uses, 5000, allegedly, virtually, coin, rds, carol, identifies,\n",
        "Nearest to are: were, have, daytime, processes, been, photographic, is, be,\n",
        "Nearest to music: obligatory, salt, design, sufficiently, application, susan, reform, mecca,\n",
        "Nearest to no: any, problematic, franchise, studies, colleges, primes, gun, protective,\n",
        "Nearest to being: neutropenia, steadily, named, soon, contest, resided, ceremony, difficult,\n",
        "Nearest to were: are, been, be, advanced, marion, acknowledging, assert, authoritative,\n",
        "Nearest to been: become, always, be, stole, were, starship, zealands, often,\n",
        "Nearest to two: three, several, converges, six, four, dating, few, following,\n",
        "Nearest to into: through, lisbon, trial, collaborative, el, amidst, sheung, steamship,\n",
        "Nearest to had: has, agreed, have, racing, enormous, was, looks, began,\n",
        "Nearest to over: generated, freyja, graduate, contest, inmates, recipient, lawyer, fanny,\n",
        "Nearest to was: became, is, arises, had, been, supposedly, be, did,\n",
        "Nearest to an: jackie, lifestyle, roller, disturbing, fond, well, grape, fruit,\n",
        "Nearest to national: particle, abuses, guidance, sure, tennessee, subaru, furthermore, dated,\n"
       ]
      }
     ],
     "prompt_number": 2
    },
    {
     "cell_type": "code",
     "collapsed": false,
     "input": [
      "import random\n",
      "# Testing final embedding\n",
      "input_dictionary = dict([(v,k) for (k,v) in reverse_dictionary.iteritems()])\n",
      "\n",
      "test_word_idx_a = np.random.randint(0, len(input_dictionary) - 1)\n",
      "\n",
      "a = final_embeddings[test_word_idx_a,:]\n",
      "\n",
      "similarity = final_embeddings.dot(a)\n",
      "\n",
      "top_k = 9\n",
      "nearest = (-similarity).argsort()[0:top_k]\n",
      "\n",
      "for k in range(top_k):\n",
      "    close_word = reverse_dictionary[nearest[k]]\n",
      "    print(close_word)\n",
      "\n",
      "doc_id = 8136\n",
      "\n",
      "para_embedding = final_para_embeddings[doc_id, :]\n",
      "print doc_id\n",
      "similarity_para = final_para_embeddings.dot(para_embedding)\n",
      "nearest_para = (-similarity_para).argsort()[0:top_k]\n",
      "for k in range(top_k):\n",
      "    close_sen = all_docs[nearest_para[k]]\n",
      "    print(close_sen)"
     ],
     "language": "python",
     "metadata": {},
     "outputs": [
      {
       "output_type": "stream",
       "stream": "stdout",
       "text": [
        "offers\n",
        "doubt\n",
        "found\n",
        "contain\n",
        "pedlar\n",
        "suggested\n",
        "brother\n",
        "session\n",
        "innocents\n",
        "8136\n",
        "LabelDoc(words=['maldonado', 'holds', 'two', 'notable', 'knockout', 'victories', 'over', 'maiquel', 'falc\\xc3\\xa3o'], tags=['SEN_8136'])\n",
        "LabelDoc(words=['malinowski', 'emphasized', 'the', 'importance', 'of', 'detailed', 'participant', 'observation', 'and', 'argued', 'that', 'anthropologists', 'must', 'have', 'daily', 'contact', 'with', 'their', 'informants', 'if', 'they', 'are', 'to', 'adequately', 'record', 'the', 'imponderabilia', 'of', 'everyday', 'life', 'that', 'are', 'so', 'important', 'to', 'understanding', 'a', 'different', 'culture'], tags=['SEN_13976'])\n",
        "LabelDoc(words=['arjuna', 'and', 'the', 'kir\\xc4\\x81ta', 'simultaneously', 'shoot', 'an', 'arrow', 'at', 'the', 'boar', 'and', 'kill', 'it'], tags=['SEN_8491'])\n",
        "LabelDoc(words=['the', 'united', 'states', '1935', '\\xe2\\x80\\x93', 'nira', 'is', 'unconstitutional'], tags=['SEN_2768'])\n",
        "LabelDoc(words=['as', 'an', 'axiom', 'of', 'probability'], tags=['SEN_3555'])\n",
        "LabelDoc(words=['the', 'studio', 'believed', 'it', 'held', 'the', 'rights', 'to', 'produce', 'the', 'film', 'or', 'at', 'least', 'distribute', 'it', 'no', 'matter', 'how', 'many', 'studios', 'watchmen', 'passed', 'through', 'and', 'sought', 'to', 'block', 'its', 'release'], tags=['SEN_1207'])\n",
        "LabelDoc(words=['the', 'albums', 'first', 'track', 'light', 'of', 'the', 'morning', 'was', 'featured', 'in', 'a', 'television', 'ad', 'for', 'the', '2011', 'ford', 'mustang'], tags=['SEN_5349'])\n",
        "LabelDoc(words=['they', 'represented', 'themselves', 'with', 'the', 'color', 'green', 'and', 'many', 'members', 'wore', 'dreadlocks', 'as', 'a', 'symbol', 'of', 'freedom'], tags=['SEN_3851'])\n",
        "LabelDoc(words=['they', 'occur', 'between', 'sea', 'level', 'and', '2000m', 'in', 'humid', 'regions'], tags=['SEN_10052'])\n"
       ]
      }
     ],
     "prompt_number": 3
    },
    {
     "cell_type": "code",
     "collapsed": false,
     "input": [],
     "language": "python",
     "metadata": {},
     "outputs": []
    },
    {
     "cell_type": "code",
     "collapsed": false,
     "input": [],
     "language": "python",
     "metadata": {},
     "outputs": []
    }
   ],
   "metadata": {}
  }
 ]
}